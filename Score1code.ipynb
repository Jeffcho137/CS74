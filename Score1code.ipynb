{
 "cells": [
  {
   "cell_type": "code",
   "execution_count": 1,
   "metadata": {},
   "outputs": [],
   "source": [
    "import pandas as pd\n",
    "import numpy as np\n",
    "pd.options.mode.chained_assignment = None"
   ]
  },
  {
   "cell_type": "code",
   "execution_count": 2,
   "metadata": {},
   "outputs": [],
   "source": [
    "training = pd.read_json('Grocery_and_Gourmet_Food_Reviews_training.json', lines=True)"
   ]
  },
  {
   "cell_type": "code",
   "execution_count": 3,
   "metadata": {},
   "outputs": [],
   "source": [
    "lessRelevant = training[['overall', 'verified', 'unixReviewTime', 'image']]"
   ]
  },
  {
   "cell_type": "code",
   "execution_count": 4,
   "metadata": {},
   "outputs": [],
   "source": [
    "lessRelevant['image'].fillna(0, inplace=True)\n",
    "lessRelevant.loc[(lessRelevant.image != 0),'image']=1\n",
    "\n",
    "lessRelevant.loc[(lessRelevant.verified == True),'verified']=1\n",
    "lessRelevant.loc[(lessRelevant.verified == False),'verified']=0\n",
    "\n",
    "lessRelevant.dropna();\n"
   ]
  },
  {
   "cell_type": "code",
   "execution_count": 5,
   "metadata": {},
   "outputs": [],
   "source": [
    "lessRelevantRatings = lessRelevant['overall']\n",
    "del lessRelevant['overall']\n",
    "#images = lessRelevant['image']\n",
    "#del lessRelevant['image']\n",
    "#verification = lessRelevant['verified']\n",
    "#Fdel lessRelevant['verified']\n",
    "#time = lessRelevant['unixReviewTime']\n",
    "#del lessRelevant['unixReviewTime']\n"
   ]
  },
  {
   "cell_type": "code",
   "execution_count": 6,
   "metadata": {},
   "outputs": [],
   "source": [
    "#print(lessRelevant)"
   ]
  },
  {
   "cell_type": "code",
   "execution_count": 7,
   "metadata": {},
   "outputs": [],
   "source": [
    "#for i in lessRelevant:\n",
    "#    print(lessRelevant[i])"
   ]
  },
  {
   "cell_type": "code",
   "execution_count": 8,
   "metadata": {},
   "outputs": [],
   "source": [
    "#print(lessRelevant['overall'])"
   ]
  },
  {
   "cell_type": "code",
   "execution_count": 9,
   "metadata": {},
   "outputs": [],
   "source": [
    "#print(lessRelevantRatings)"
   ]
  },
  {
   "cell_type": "code",
   "execution_count": 10,
   "metadata": {},
   "outputs": [],
   "source": [
    "index = []\n",
    "small = []\n",
    "#print(lessRelevantRatings[1])    "
   ]
  },
  {
   "cell_type": "code",
   "execution_count": 11,
   "metadata": {
    "jupyter": {
     "source_hidden": true
    }
   },
   "outputs": [],
   "source": [
    "#print(len(lessRelevantRatings))"
   ]
  },
  {
   "cell_type": "code",
   "execution_count": 12,
   "metadata": {},
   "outputs": [],
   "source": [
    "for i in range(100):\n",
    "    if lessRelevantRatings[i] > 4.7:\n",
    "        small.append(i)\n",
    "#print(index)"
   ]
  },
  {
   "cell_type": "code",
   "execution_count": 13,
   "metadata": {},
   "outputs": [],
   "source": [
    "for i in range(len(lessRelevantRatings)):\n",
    "    if lessRelevantRatings[i] > 4.7:\n",
    "        index.append(i)\n",
    "#print(index)"
   ]
  },
  {
   "cell_type": "code",
   "execution_count": 14,
   "metadata": {},
   "outputs": [],
   "source": [
    "#for i in index:\n",
    "#    print(i)"
   ]
  },
  {
   "cell_type": "code",
   "execution_count": 15,
   "metadata": {},
   "outputs": [],
   "source": [
    "#for i in index:\n",
    "#    print(lessRelevant['image'][i])"
   ]
  },
  {
   "cell_type": "code",
   "execution_count": 16,
   "metadata": {},
   "outputs": [],
   "source": [
    "#for i in small:\n",
    "#    print(lessRelevant['unixReviewTime'][i])"
   ]
  },
  {
   "cell_type": "code",
   "execution_count": 17,
   "metadata": {},
   "outputs": [],
   "source": [
    "from sklearn.naive_bayes import GaussianNB"
   ]
  },
  {
   "cell_type": "code",
   "execution_count": 18,
   "metadata": {},
   "outputs": [],
   "source": [
    "list_x = []\n",
    "list_y = []\n",
    "\n",
    "for i in range(len(lessRelevantRatings)):\n",
    "    list_x.append([lessRelevant['verified'][i], lessRelevant['unixReviewTime'][i], lessRelevant['image'][i]])\n",
    "    list_y.append(lessRelevantRatings[i])\n",
    "\n",
    "Y = np.array(list_y)\n",
    "X = np.array(list_x)"
   ]
  },
  {
   "cell_type": "code",
   "execution_count": 19,
   "metadata": {},
   "outputs": [
    {
     "data": {
      "text/plain": [
       "GaussianNB()"
      ]
     },
     "execution_count": 19,
     "metadata": {},
     "output_type": "execute_result"
    }
   ],
   "source": [
    "clf = GaussianNB()\n",
    "clf.fit(X, Y)"
   ]
  },
  {
   "cell_type": "code",
   "execution_count": 20,
   "metadata": {},
   "outputs": [],
   "source": [
    "#print(clf.predict([[0, 1389571200, 0]]))"
   ]
  },
  {
   "cell_type": "code",
   "execution_count": 21,
   "metadata": {},
   "outputs": [
    {
     "name": "stdout",
     "output_type": "stream",
     "text": [
      "1023321600\n",
      "1038614400\n",
      "1068249600\n",
      "1073433600\n",
      "1078531200\n",
      "1082678400\n",
      "1087948800\n",
      "1089676800\n",
      "1091577600\n",
      "1094860800\n"
     ]
    }
   ],
   "source": [
    "unix = []\n",
    "for i in range(len(lessRelevantRatings)):\n",
    "    unix.append(lessRelevant['unixReviewTime'][i])\n",
    "\n",
    "unix.sort()\n",
    "\n",
    "for x in range(10):\n",
    "    print(unix[x])"
   ]
  },
  {
   "cell_type": "code",
   "execution_count": 22,
   "metadata": {},
   "outputs": [
    {
     "name": "stdout",
     "output_type": "stream",
     "text": [
      "[4]\n"
     ]
    }
   ],
   "source": [
    "print(clf.predict([[0, 1023321600, 0]]))"
   ]
  },
  {
   "cell_type": "code",
   "execution_count": 23,
   "metadata": {},
   "outputs": [
    {
     "data": {
      "text/plain": [
       "0.7147201246593401"
      ]
     },
     "execution_count": 23,
     "metadata": {},
     "output_type": "execute_result"
    }
   ],
   "source": [
    "from sklearn.model_selection import train_test_split\n",
    "X_train, X_test, Y_train, Y_test = train_test_split(X, Y, test_size=0.33)\n",
    "model = GaussianNB()\n",
    "model.fit(X_train, Y_train)\n",
    "model.score(X_test, Y_test)\n"
   ]
  }
 ],
 "metadata": {
  "kernelspec": {
   "display_name": "Python 3",
   "language": "python",
   "name": "python3"
  },
  "language_info": {
   "codemirror_mode": {
    "name": "ipython",
    "version": 3
   },
   "file_extension": ".py",
   "mimetype": "text/x-python",
   "name": "python",
   "nbconvert_exporter": "python",
   "pygments_lexer": "ipython3",
   "version": "3.8.3"
  }
 },
 "nbformat": 4,
 "nbformat_minor": 4
}
